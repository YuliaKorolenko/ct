{
 "cells": [
  {
   "cell_type": "code",
   "execution_count": 5,
   "metadata": {},
   "outputs": [],
   "source": [
    "import math"
   ]
  },
  {
   "cell_type": "code",
   "execution_count": 6,
   "metadata": {},
   "outputs": [],
   "source": [
    "def comb(n, i):\n",
    "    return math.factorial(n)/ (math.factorial(n - i) * math.factorial(i))"
   ]
  },
  {
   "cell_type": "code",
   "execution_count": 7,
   "metadata": {},
   "outputs": [],
   "source": [
    "def boarderHam(n, k, d):\n",
    "    left = 2**(n-k)\n",
    "    right = 0\n",
    "    t = math.floor((d - 1) / 2)\n",
    "    for i in range(0, int(t) + 1):\n",
    "        right += comb(n, i)\n",
    "    return left >= right"
   ]
  },
  {
   "cell_type": "code",
   "execution_count": 47,
   "metadata": {},
   "outputs": [],
   "source": [
    "def HammimgFindD(n, k):\n",
    "    for i in range(0, n):\n",
    "        if (not boarderHam(n, k, i)):\n",
    "            print(i - 1)\n",
    "            break"
   ]
  },
  {
   "cell_type": "code",
   "execution_count": 48,
   "metadata": {},
   "outputs": [],
   "source": [
    "def HammimgFindK(n, d):\n",
    "    for i in range(0, n):\n",
    "        if (not boarderHam(n, i, d)):\n",
    "            print(i - 1)\n",
    "            break"
   ]
  },
  {
   "cell_type": "code",
   "execution_count": 83,
   "metadata": {},
   "outputs": [
    {
     "name": "stdout",
     "output_type": "stream",
     "text": [
      "4\n"
     ]
    }
   ],
   "source": [
    "HammimgFindD(14, 8)"
   ]
  },
  {
   "cell_type": "code",
   "execution_count": 85,
   "metadata": {},
   "outputs": [
    {
     "name": "stdout",
     "output_type": "stream",
     "text": [
      "7\n"
     ]
    }
   ],
   "source": [
    "HammimgFindK(17, 7)"
   ]
  },
  {
   "cell_type": "markdown",
   "metadata": {},
   "source": [
    "Варшавова-Гилберта"
   ]
  },
  {
   "cell_type": "code",
   "execution_count": 73,
   "metadata": {},
   "outputs": [],
   "source": [
    "def Var_gil(n, k, d):\n",
    "    left = 2 ** (n-k)\n",
    "    right = 0\n",
    "    for i in range(0, d - 1):\n",
    "        right += comb(n-1, i) * (2-1)**i\n",
    "    return left > right"
   ]
  },
  {
   "cell_type": "code",
   "execution_count": 74,
   "metadata": {},
   "outputs": [],
   "source": [
    "def VarGilFindD(n, k):\n",
    "    for i in range(0, n):\n",
    "        if (not Var_gil(n, k, i)):\n",
    "            print(i - 1)\n",
    "            break"
   ]
  },
  {
   "cell_type": "code",
   "execution_count": 75,
   "metadata": {},
   "outputs": [],
   "source": [
    "def VarGilFindK(n, d):\n",
    "    for i in range(0, n):\n",
    "        if (not Var_gil(n, i, d)):\n",
    "            print(i - 1)\n",
    "            break"
   ]
  },
  {
   "cell_type": "code",
   "execution_count": 81,
   "metadata": {},
   "outputs": [
    {
     "name": "stdout",
     "output_type": "stream",
     "text": [
      "3\n"
     ]
    }
   ],
   "source": [
    "VarGilFindD(14, 8)"
   ]
  },
  {
   "cell_type": "code",
   "execution_count": 87,
   "metadata": {},
   "outputs": [
    {
     "name": "stdout",
     "output_type": "stream",
     "text": [
      "4\n"
     ]
    }
   ],
   "source": [
    "VarGilFindK(17, 7)"
   ]
  },
  {
   "cell_type": "markdown",
   "metadata": {},
   "source": [
    "Граймса"
   ]
  },
  {
   "cell_type": "code",
   "execution_count": 151,
   "metadata": {},
   "outputs": [],
   "source": [
    "def Graims(n, k, d):\n",
    "    right = 0\n",
    "    for i in range (0, k):\n",
    "        right += math.floor(d / 2**i)\n",
    "#     print (\"right\", right)\n",
    "    return n <= right"
   ]
  },
  {
   "cell_type": "code",
   "execution_count": 152,
   "metadata": {},
   "outputs": [],
   "source": [
    "def GraimsFindD(n, k):\n",
    "    for i in range(0, n):\n",
    "        print(i)\n",
    "        print(Graims(n, k, i))"
   ]
  },
  {
   "cell_type": "code",
   "execution_count": 156,
   "metadata": {},
   "outputs": [],
   "source": [
    "def GraimsFindK(n, d):\n",
    "    for i in range(0, n):\n",
    "        print(i)\n",
    "        print(Graims(n, i, d))"
   ]
  },
  {
   "cell_type": "code",
   "execution_count": 157,
   "metadata": {},
   "outputs": [
    {
     "name": "stdout",
     "output_type": "stream",
     "text": [
      "0\n",
      "False\n",
      "1\n",
      "False\n",
      "2\n",
      "False\n",
      "3\n",
      "False\n",
      "4\n",
      "False\n",
      "5\n",
      "False\n",
      "6\n",
      "False\n",
      "7\n",
      "False\n",
      "8\n",
      "False\n",
      "9\n",
      "False\n",
      "10\n",
      "True\n",
      "11\n",
      "True\n",
      "12\n",
      "True\n",
      "13\n",
      "True\n",
      "14\n",
      "True\n",
      "15\n",
      "True\n",
      "16\n",
      "True\n",
      "17\n",
      "True\n"
     ]
    }
   ],
   "source": [
    "GraimsFindD(18, 10)"
   ]
  },
  {
   "cell_type": "code",
   "execution_count": 158,
   "metadata": {},
   "outputs": [
    {
     "name": "stdout",
     "output_type": "stream",
     "text": [
      "0\n",
      "False\n",
      "1\n",
      "False\n",
      "2\n",
      "False\n",
      "3\n",
      "False\n",
      "4\n",
      "False\n",
      "5\n",
      "False\n",
      "6\n",
      "False\n",
      "7\n",
      "False\n",
      "8\n",
      "False\n",
      "9\n",
      "False\n",
      "10\n",
      "False\n",
      "11\n",
      "False\n",
      "12\n",
      "False\n",
      "13\n",
      "False\n",
      "14\n",
      "False\n",
      "15\n",
      "False\n"
     ]
    }
   ],
   "source": [
    "GraimsFindK(16, 8)"
   ]
  },
  {
   "cell_type": "code",
   "execution_count": 128,
   "metadata": {},
   "outputs": [
    {
     "name": "stdout",
     "output_type": "stream",
     "text": [
      "('right', 15.0)\n"
     ]
    },
    {
     "data": {
      "text/plain": [
       "True"
      ]
     },
     "execution_count": 128,
     "metadata": {},
     "output_type": "execute_result"
    }
   ],
   "source": [
    "Graims(16, 5, 8)"
   ]
  },
  {
   "cell_type": "code",
   "execution_count": null,
   "metadata": {},
   "outputs": [],
   "source": []
  }
 ],
 "metadata": {
  "kernelspec": {
   "display_name": "Python 2",
   "language": "python",
   "name": "python2"
  },
  "language_info": {
   "codemirror_mode": {
    "name": "ipython",
    "version": 2
   },
   "file_extension": ".py",
   "mimetype": "text/x-python",
   "name": "python",
   "nbconvert_exporter": "python",
   "pygments_lexer": "ipython2",
   "version": "2.7.18"
  }
 },
 "nbformat": 4,
 "nbformat_minor": 2
}
